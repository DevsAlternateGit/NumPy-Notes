{
 "cells": [
  {
   "cell_type": "markdown",
   "id": "c400e2ac-2f7a-4b77-ae3f-84041a7ccbb3",
   "metadata": {},
   "source": [
    "# Array Manipulation "
   ]
  },
  {
   "cell_type": "markdown",
   "id": "40b87dd6-dedb-4a93-bdba-838dfa2bb321",
   "metadata": {},
   "source": [
    "## Changing Array Shape "
   ]
  },
  {
   "cell_type": "code",
   "execution_count": 5,
   "id": "439c8853-f8de-47aa-8185-accfb04d95dd",
   "metadata": {},
   "outputs": [
    {
     "name": "stdout",
     "output_type": "stream",
     "text": [
      "Origanal Array:\n",
      "[0 1 2 3 4 5 6 7 8]\n",
      "\n",
      "Modified Array:\n",
      "[[0 1 2]\n",
      " [3 4 5]\n",
      " [6 7 8]]\n"
     ]
    }
   ],
   "source": [
    "import numpy as np\n",
    "\n",
    "# Create a 1D array with values from 0 to 8\n",
    "a = np.arange(9)\n",
    "\n",
    "# Print the original 1D array\n",
    "print(\"Original Array:\")\n",
    "print(a)\n",
    "print()\n",
    "\n",
    "# Reshape the 1D array into a 2D array with 3 rows and 3 columns\n",
    "b = a.reshape(3, 3)\n",
    "\n",
    "# Print the reshaped 2D array\n",
    "print(\"Modified Array:\")\n",
    "print(b)"
   ]
  },
  {
   "cell_type": "code",
   "execution_count": 8,
   "id": "fc45242f-afeb-42dc-95cb-d54d4f122bc0",
   "metadata": {},
   "outputs": [
    {
     "name": "stdout",
     "output_type": "stream",
     "text": [
      "[0 1 2 3 4 5 6 7 8]\n",
      "[0 3 6 1 4 7 2 5 8]\n"
     ]
    }
   ],
   "source": [
    "# Flatten the 2D array 'b' into a 1D array (row-wise, default order)\n",
    "print(b.flatten())\n",
    "\n",
    "# Flatten the 2D array 'b' into a 1D array (column-wise, specified by order=\"F\")\n",
    "print(b.flatten(order=\"F\"))"
   ]
  },
  {
   "cell_type": "code",
   "execution_count": 9,
   "id": "1fcf853d-3a63-4579-945f-06a576fab6ec",
   "metadata": {},
   "outputs": [
    {
     "data": {
      "text/plain": [
       "array([[ 0,  1,  2],\n",
       "       [ 3,  4,  5],\n",
       "       [ 6,  7,  8],\n",
       "       [ 9, 10, 11]])"
      ]
     },
     "execution_count": 9,
     "metadata": {},
     "output_type": "execute_result"
    }
   ],
   "source": [
    "# Create a 1D array with values from 0 to 11 and reshape it into a 2D array with 4 rows and 3 columns\n",
    "a = np.arange(12).reshape(4, 3)\n",
    "\n",
    "# Display the reshaped 2D array 'a'\n",
    "a"
   ]
  },
  {
   "cell_type": "markdown",
   "id": "e186dc11-80a1-49ea-a6af-84146dc10292",
   "metadata": {},
   "source": [
    "### np.transpose( ) :"
   ]
  },
  {
   "cell_type": "code",
   "execution_count": 11,
   "id": "b922eb5e-9192-4a6e-b14c-fef750b5fdce",
   "metadata": {},
   "outputs": [
    {
     "data": {
      "text/plain": [
       "array([[ 0,  3,  6,  9],\n",
       "       [ 1,  4,  7, 10],\n",
       "       [ 2,  5,  8, 11]])"
      ]
     },
     "execution_count": 11,
     "metadata": {},
     "output_type": "execute_result"
    }
   ],
   "source": [
    "# Transpose the 2D array 'a', swapping its rows and columns\n",
    "np.transpose(a)"
   ]
  },
  {
   "cell_type": "markdown",
   "id": "844f4d93-bc67-4af4-80e5-5e55728dc41d",
   "metadata": {},
   "source": [
    " # Numpy Arithmetic Operations :"
   ]
  },
  {
   "cell_type": "code",
   "execution_count": 15,
   "id": "966416e6-66a0-40c2-97e6-59a8e624ff1d",
   "metadata": {},
   "outputs": [],
   "source": [
    "# Create a 1D array with values from 0 to 8 and reshape it into a 3x3 2D array\n",
    "a = np.arange(9).reshape(3, 3)\n",
    "\n",
    "# Create a 1D array with three elements, each having the value 10\n",
    "b = np.array([10, 10, 10])"
   ]
  },
  {
   "cell_type": "code",
   "execution_count": 16,
   "id": "b0cb8832-aca4-49e1-85f1-9b6e4892d08f",
   "metadata": {},
   "outputs": [
    {
     "data": {
      "text/plain": [
       "array([[10, 11, 12],\n",
       "       [13, 14, 15],\n",
       "       [16, 17, 18]])"
      ]
     },
     "execution_count": 16,
     "metadata": {},
     "output_type": "execute_result"
    }
   ],
   "source": [
    "# Add the 1D array 'b' to each row of the 2D array 'a' (broadcasting occurs here)\n",
    "np.add(a, b)"
   ]
  },
  {
   "cell_type": "code",
   "execution_count": 17,
   "id": "c4665834-7619-49eb-8ed3-e7e7c41fae9c",
   "metadata": {},
   "outputs": [
    {
     "data": {
      "text/plain": [
       "array([[-10,  -9,  -8],\n",
       "       [ -7,  -6,  -5],\n",
       "       [ -4,  -3,  -2]])"
      ]
     },
     "execution_count": 17,
     "metadata": {},
     "output_type": "execute_result"
    }
   ],
   "source": [
    "# Subtract the 1D array 'b' from each row of the 2D array 'a' (broadcasting occurs here)\n",
    "np.subtract(a, b)"
   ]
  },
  {
   "cell_type": "code",
   "execution_count": 18,
   "id": "ca17f5b8-0c44-407f-915f-316d355a218e",
   "metadata": {
    "scrolled": true
   },
   "outputs": [
    {
     "data": {
      "text/plain": [
       "array([[ 0, 10, 20],\n",
       "       [30, 40, 50],\n",
       "       [60, 70, 80]])"
      ]
     },
     "execution_count": 18,
     "metadata": {},
     "output_type": "execute_result"
    }
   ],
   "source": [
    "# Multiply each row of the 2D array 'a' by the corresponding element in the 1D array 'b' (broadcasting occurs here)\n",
    "np.multiply(a, b)"
   ]
  },
  {
   "cell_type": "code",
   "execution_count": 19,
   "id": "5d267ddb-f4b9-4a46-9cac-716479df6b9c",
   "metadata": {},
   "outputs": [
    {
     "data": {
      "text/plain": [
       "array([[0. , 0.1, 0.2],\n",
       "       [0.3, 0.4, 0.5],\n",
       "       [0.6, 0.7, 0.8]])"
      ]
     },
     "execution_count": 19,
     "metadata": {},
     "output_type": "execute_result"
    }
   ],
   "source": [
    "np.divide(a,b)"
   ]
  },
  {
   "cell_type": "markdown",
   "id": "cebb0ff8-57b4-4e04-9799-d8af95d2ba95",
   "metadata": {},
   "source": [
    "# Slicing :"
   ]
  },
  {
   "cell_type": "code",
   "execution_count": 20,
   "id": "c0828278-66ad-4bf2-bc92-a1a90ee6037a",
   "metadata": {},
   "outputs": [],
   "source": [
    "a = np.arange(20)"
   ]
  },
  {
   "cell_type": "code",
   "execution_count": 24,
   "id": "67ea1109-ed0b-421d-833d-f218e2cc5ce5",
   "metadata": {},
   "outputs": [
    {
     "name": "stdout",
     "output_type": "stream",
     "text": [
      "[0 1 2 3]\n",
      "[ 4  5  6  7  8  9 10 11 12 13 14 15 16 17 18 19]\n",
      "5\n",
      "[ 2  5  8 11]\n"
     ]
    }
   ],
   "source": [
    "print(a[:4])\n",
    "print(a[4:])\n",
    "print(a[5])\n",
    "\n",
    "s = slice(2,12,3)\n",
    "print(a[s])"
   ]
  }
 ],
 "metadata": {
  "kernelspec": {
   "display_name": "Python 3 (ipykernel)",
   "language": "python",
   "name": "python3"
  },
  "language_info": {
   "codemirror_mode": {
    "name": "ipython",
    "version": 3
   },
   "file_extension": ".py",
   "mimetype": "text/x-python",
   "name": "python",
   "nbconvert_exporter": "python",
   "pygments_lexer": "ipython3",
   "version": "3.12.7"
  }
 },
 "nbformat": 4,
 "nbformat_minor": 5
}

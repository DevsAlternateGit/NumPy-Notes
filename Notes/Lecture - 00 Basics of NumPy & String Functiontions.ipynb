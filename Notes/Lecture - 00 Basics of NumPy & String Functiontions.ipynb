{
 "cells": [
  {
   "cell_type": "code",
   "execution_count": 1,
   "id": "18cc743e-20b1-49a5-a37d-b82eb83cf357",
   "metadata": {},
   "outputs": [],
   "source": [
    "import numpy as np "
   ]
  },
  {
   "cell_type": "markdown",
   "id": "35c62106-f39d-41a1-b91b-b1739a8b4a7c",
   "metadata": {},
   "source": [
    "# Creating arrays using **np.array()** :\n",
    " "
   ]
  },
  {
   "cell_type": "code",
   "execution_count": 2,
   "id": "b166a548-2773-41e9-b7df-ab3adf05f88d",
   "metadata": {},
   "outputs": [
    {
     "name": "stdout",
     "output_type": "stream",
     "text": [
      "[3 6 3 4]\n",
      "6\n"
     ]
    }
   ],
   "source": [
    "import numpy as np  # Importing the numpy library for numerical operations\n",
    "\n",
    "# Create a NumPy array with the elements 3, 6, 3, and 4\n",
    "arr = np.array([3, 6, 3, 4])\n",
    "\n",
    "# Print the entire array\n",
    "print(arr)\n",
    "\n",
    "# Access and display the element at index 1 (second element) of the array\n",
    "print(arr[1])\n"
   ]
  },
  {
   "cell_type": "code",
   "execution_count": 3,
   "id": "57dc73d1-6d23-4b40-aaa9-c3bb08d454d0",
   "metadata": {},
   "outputs": [
    {
     "name": "stdout",
     "output_type": "stream",
     "text": [
      "[[1 2 3]\n",
      " [7 8 9]]\n"
     ]
    },
    {
     "data": {
      "text/plain": [
       "np.int64(7)"
      ]
     },
     "execution_count": 3,
     "metadata": {},
     "output_type": "execute_result"
    }
   ],
   "source": [
    "# Create a 2D NumPy array with two rows and three columns\n",
    "arr2 = np.array([[1, 2, 3], [7, 8, 9]])\n",
    "\n",
    "# Print the entire 2D array\n",
    "print(arr2)\n",
    "\n",
    "# Access and display the element at row index 1 and column index 0 (value 7)\n",
    "arr2[1, 0]\n"
   ]
  },
  {
   "cell_type": "markdown",
   "id": "bf9ed1a9-8b4d-4196-ac51-74c71a86aa1e",
   "metadata": {},
   "source": [
    "# Basic operations :"
   ]
  },
  {
   "cell_type": "code",
   "execution_count": 4,
   "id": "f42a6e70-36c4-4508-a822-98e4d8456e8a",
   "metadata": {},
   "outputs": [
    {
     "name": "stdout",
     "output_type": "stream",
     "text": [
      "(4,)\n",
      "(2, 3)\n",
      "int64\n",
      "int64\n",
      "1\n",
      "2\n"
     ]
    }
   ],
   "source": [
    "# Print the shape (dimensions) of the 1D array 'arr'\n",
    "print(arr.shape)\n",
    "\n",
    "# Print the shape (dimensions) of the 2D array 'arr2'\n",
    "print(arr2.shape)\n",
    "\n",
    "# Print the data type of the elements in the 1D array 'arr'\n",
    "print(arr.dtype)\n",
    "\n",
    "# Print the data type of the elements in the 2D array 'arr2'\n",
    "print(arr2.dtype)\n",
    "\n",
    "# Print the number of dimensions of the 1D array 'arr'\n",
    "print(arr.ndim)\n",
    "\n",
    "# Print the number of dimensions of the 2D array 'arr2'\n",
    "print(arr2.ndim)"
   ]
  },
  {
   "cell_type": "code",
   "execution_count": 5,
   "id": "fb34a6a2-ab9d-41ae-8759-3b0348bfbc8e",
   "metadata": {},
   "outputs": [
    {
     "data": {
      "text/plain": [
       "array([[0., 0., 0., 0.],\n",
       "       [0., 0., 0., 0.],\n",
       "       [0., 0., 0., 0.]])"
      ]
     },
     "execution_count": 5,
     "metadata": {},
     "output_type": "execute_result"
    }
   ],
   "source": [
    "# Create a 2D array of zeros with 3 rows and 4 columns\n",
    "np.zeros((3, 4))"
   ]
  },
  {
   "cell_type": "code",
   "execution_count": 6,
   "id": "b108e259-65d8-483e-8d82-1dc21b216879",
   "metadata": {},
   "outputs": [
    {
     "data": {
      "text/plain": [
       "array([[1., 1., 1., 1.],\n",
       "       [1., 1., 1., 1.],\n",
       "       [1., 1., 1., 1.]])"
      ]
     },
     "execution_count": 6,
     "metadata": {},
     "output_type": "execute_result"
    }
   ],
   "source": [
    "# Create a 2D array of ones with 3 rows and 4 columns\n",
    "np.ones((3, 4))"
   ]
  },
  {
   "cell_type": "code",
   "execution_count": 7,
   "id": "66206950-6830-414a-8463-deb95e5d8918",
   "metadata": {},
   "outputs": [
    {
     "data": {
      "text/plain": [
       "array([30, 28, 26, 24, 22, 20, 18, 16, 14, 12, 10,  8,  6])"
      ]
     },
     "execution_count": 7,
     "metadata": {},
     "output_type": "execute_result"
    }
   ],
   "source": [
    "# Create a 1D array with values ranging from 0 to 4 (exclusive of 5)\n",
    "np.arange(5)\n",
    "\n",
    "# Create a 1D array with values starting from 5 up to 60 (exclusive), with a step of 5\n",
    "np.arange(5, 60, 5)\n",
    "\n",
    "# Create a 1D array with values starting from 30 down to 5 (exclusive), decrementing by 2\n",
    "np.arange(30, 5, -2)"
   ]
  },
  {
   "cell_type": "markdown",
   "id": "be18b34b-2c77-4166-aa41-86de7ba3cb60",
   "metadata": {},
   "source": [
    "# Numpy String Functions :"
   ]
  },
  {
   "cell_type": "code",
   "execution_count": 8,
   "id": "40b4a66d-b61e-47e7-9d60-c04dba21f7db",
   "metadata": {},
   "outputs": [
    {
     "data": {
      "text/plain": [
       "array(['Hello ABC', 'Hi XYZ'], dtype='<U9')"
      ]
     },
     "execution_count": 8,
     "metadata": {},
     "output_type": "execute_result"
    }
   ],
   "source": [
    "# Concatenate corresponding elements of two arrays of strings\n",
    "np.char.add([\"Hello \", \"Hi \"], [\"ABC\", \"XYZ\"])"
   ]
  },
  {
   "cell_type": "code",
   "execution_count": 9,
   "id": "6afdefdb-2ec0-4e93-a6ae-33055cbb7e99",
   "metadata": {},
   "outputs": [
    {
     "data": {
      "text/plain": [
       "array('----------Thank You-----------', dtype='<U30')"
      ]
     },
     "execution_count": 9,
     "metadata": {},
     "output_type": "execute_result"
    }
   ],
   "source": [
    "# Center-align the string \"Thank You\" within a string of length 30, filling the extra spaces with \"-\"\n",
    "np.char.center(\"Thank You\", 30, fillchar=\"-\")"
   ]
  },
  {
   "cell_type": "code",
   "execution_count": 10,
   "id": "0034c9fc-5fa8-48aa-a7d8-46dbe5c0d3be",
   "metadata": {},
   "outputs": [
    {
     "data": {
      "text/plain": [
       "array('Hello world', dtype='<U11')"
      ]
     },
     "execution_count": 10,
     "metadata": {},
     "output_type": "execute_result"
    }
   ],
   "source": [
    "# Capitalize the first letter of the string \"hello world\"\n",
    "np.char.capitalize(\"hello world\")"
   ]
  },
  {
   "cell_type": "code",
   "execution_count": 11,
   "id": "76ef1b2c-3d8b-4e82-9e74-e9a6ad65bef5",
   "metadata": {},
   "outputs": [
    {
     "data": {
      "text/plain": [
       "array('Sup What Is Up', dtype='<U14')"
      ]
     },
     "execution_count": 11,
     "metadata": {},
     "output_type": "execute_result"
    }
   ],
   "source": [
    "# Capitalize the first letter of each word in the string \"sup what is up\"\n",
    "np.char.title(\"sup what is up\")"
   ]
  },
  {
   "cell_type": "code",
   "execution_count": 12,
   "id": "1e2c0057-5e22-4309-820a-173884006701",
   "metadata": {},
   "outputs": [
    {
     "data": {
      "text/plain": [
       "array('hello', dtype='<U5')"
      ]
     },
     "execution_count": 12,
     "metadata": {},
     "output_type": "execute_result"
    }
   ],
   "source": [
    "# Convert all characters in the array [\"HELLO\", 'WORLD'] to lowercase\n",
    "np.char.lower([\"HELLO\", 'WORLD'])\n",
    "\n",
    "# Convert all characters in the string \"HELLO\" to lowercase\n",
    "np.char.lower(\"HELLO\")"
   ]
  },
  {
   "cell_type": "code",
   "execution_count": 13,
   "id": "c3d667cd-7d06-4194-ab76-802b1934ab82",
   "metadata": {},
   "outputs": [
    {
     "data": {
      "text/plain": [
       "array('HELLO', dtype='<U5')"
      ]
     },
     "execution_count": 13,
     "metadata": {},
     "output_type": "execute_result"
    }
   ],
   "source": [
    "# Convert all characters in the array [\"hello\", 'world'] to uppercase\n",
    "np.char.upper([\"hello\", 'world'])\n",
    "\n",
    "# Convert all characters in the string \"hello\" to uppercase\n",
    "np.char.upper(\"hello\")"
   ]
  },
  {
   "cell_type": "code",
   "execution_count": 14,
   "id": "970777b8-1c2e-45b0-9d04-32148ec169d2",
   "metadata": {},
   "outputs": [
    {
     "name": "stdout",
     "output_type": "stream",
     "text": [
      "[\"How's\", 'it', 'going?']\n"
     ]
    }
   ],
   "source": [
    "# Split the string \"How's it going?\" into a list of words based on spaces\n",
    "print(np.char.split(\"How's it going?\"))"
   ]
  },
  {
   "cell_type": "code",
   "execution_count": 15,
   "id": "0292428e-65a3-463c-9f07-1f292d89505a",
   "metadata": {},
   "outputs": [
    {
     "name": "stdout",
     "output_type": "stream",
     "text": [
      "[\"How's it\", 'going?']\n"
     ]
    }
   ],
   "source": [
    "# Split the string \"How's it\\ngoing?\" into a list of lines at newline characters\n",
    "print(np.char.splitlines(\"How's it\\ngoing?\"))"
   ]
  },
  {
   "cell_type": "code",
   "execution_count": 16,
   "id": "85cf8f40-3904-44ff-ba5c-bd1ea93ca1b7",
   "metadata": {},
   "outputs": [
    {
     "name": "stdout",
     "output_type": "stream",
     "text": [
      "['dmin' 'mount,' 'rray']\n"
     ]
    }
   ],
   "source": [
    "# Remove the character 'a' from the beginning and end of each string in the array\n",
    "print(np.char.strip([\"admin\", \"amount,\", \"array\"], \"a\"))"
   ]
  },
  {
   "cell_type": "code",
   "execution_count": 17,
   "id": "37741711-d4fa-4c3c-bfc4-9db7ac95c7c6",
   "metadata": {},
   "outputs": [
    {
     "name": "stdout",
     "output_type": "stream",
     "text": [
      "['d:m:y' 'y-m-d']\n"
     ]
    }
   ],
   "source": [
    "# Join the elements of the array [\"dmy\", \"ymd\"] with \":\" and \"-\" respectively\n",
    "print(np.char.join([\":\", \"-\"], [\"dmy\", \"ymd\"]))"
   ]
  },
  {
   "cell_type": "code",
   "execution_count": 18,
   "id": "edc9c960-4a06-441d-a60d-4cc3941058c1",
   "metadata": {},
   "outputs": [
    {
     "name": "stdout",
     "output_type": "stream",
     "text": [
      "He was a good dancer\n"
     ]
    }
   ],
   "source": [
    "# Replace the substring \"is\" with \"was\" in the string \"He is a good dancer\"\n",
    "print(np.char.replace(\"He is a good dancer\", \"is\", \"was\"))"
   ]
  }
 ],
 "metadata": {
  "kernelspec": {
   "display_name": "Python 3 (ipykernel)",
   "language": "python",
   "name": "python3"
  },
  "language_info": {
   "codemirror_mode": {
    "name": "ipython",
    "version": 3
   },
   "file_extension": ".py",
   "mimetype": "text/x-python",
   "name": "python",
   "nbconvert_exporter": "python",
   "pygments_lexer": "ipython3",
   "version": "3.12.7"
  }
 },
 "nbformat": 4,
 "nbformat_minor": 5
}

{
 "cells": [
  {
   "cell_type": "markdown",
   "id": "2468cb3b-1de1-417a-9289-2a696bba1974",
   "metadata": {},
   "source": [
    "# Iterating Over Array :"
   ]
  },
  {
   "cell_type": "code",
   "execution_count": 1,
   "id": "2c673e99-d887-474c-8348-7644740f5604",
   "metadata": {},
   "outputs": [],
   "source": [
    "import numpy as np"
   ]
  },
  {
   "cell_type": "code",
   "execution_count": 2,
   "id": "18364ca3-248e-40e5-87fa-9dc6b481d7ba",
   "metadata": {},
   "outputs": [
    {
     "name": "stdout",
     "output_type": "stream",
     "text": [
      "Original Array:\n",
      "[[ 0  5 10]\n",
      " [15 20 25]\n",
      " [30 35 40]]\n",
      "By Row Major (C-order):\n",
      "0\n",
      "5\n",
      "10\n",
      "15\n",
      "20\n",
      "25\n",
      "30\n",
      "35\n",
      "40\n",
      "By Column Major (F-order):\n",
      "0\n",
      "15\n",
      "30\n",
      "5\n",
      "20\n",
      "35\n",
      "10\n",
      "25\n",
      "40\n"
     ]
    }
   ],
   "source": [
    "# Create a 3x3 2D array with values from 0 to 40, with a step of 5\n",
    "a = np.arange(0, 45, 5).reshape(3, 3)\n",
    "\n",
    "# Print the original array\n",
    "print(\"Original Array:\")\n",
    "print(a)\n",
    "\n",
    "# Iterate through the array in row-major (C-style) order\n",
    "print(\"By Row Major (C-order):\")\n",
    "for i in np.nditer(a, order=\"C\"):\n",
    "    print(i)\n",
    "\n",
    "# Iterate through the array in column-major (Fortran-style) order\n",
    "print(\"By Column Major (F-order):\")\n",
    "for i in np.nditer(a, order=\"F\"):\n",
    "    print(i)"
   ]
  },
  {
   "cell_type": "markdown",
   "id": "f3ddebbe-0c30-498e-a562-4fd81c429475",
   "metadata": {},
   "source": [
    "# Joining Arrays :"
   ]
  },
  {
   "cell_type": "code",
   "execution_count": 3,
   "id": "cfc79784-231b-4ea8-a4d8-f227b2a0459f",
   "metadata": {},
   "outputs": [
    {
     "name": "stdout",
     "output_type": "stream",
     "text": [
      "1st Array\n",
      "[[1 2]\n",
      " [3 4]]\n",
      "2nd Array\n",
      "[[5 6]\n",
      " [7 8]]\n",
      "Joining arrays along axis 0\n",
      "[[1 2]\n",
      " [3 4]\n",
      " [5 6]\n",
      " [7 8]]\n",
      "Joining arrays along axis 1\n",
      "[[1 2 5 6]\n",
      " [3 4 7 8]]\n"
     ]
    }
   ],
   "source": [
    "# Create the first 2D array\n",
    "a = np.array([[1, 2], [3, 4]])\n",
    "\n",
    "# Print the first array\n",
    "print(\"1st Array\")\n",
    "print(a)\n",
    "\n",
    "# Create the second 2D array\n",
    "b = np.array([[5, 6], [7, 8]])\n",
    "\n",
    "# Print the second array\n",
    "print(\"2nd Array\")\n",
    "print(b)\n",
    "\n",
    "# Concatenate the arrays along axis 0 (vertically, row-wise)\n",
    "print(\"Joining arrays along axis 0\")\n",
    "print(np.concatenate((a, b), axis=0))\n",
    "\n",
    "# Concatenate the arrays along axis 1 (horizontally, column-wise)\n",
    "print(\"Joining arrays along axis 1\")\n",
    "print(np.concatenate((a, b), axis=1))"
   ]
  },
  {
   "cell_type": "markdown",
   "id": "76735b56-9a65-4244-a868-69b98a8506d2",
   "metadata": {},
   "source": [
    "# Splitting Array :"
   ]
  },
  {
   "cell_type": "code",
   "execution_count": 4,
   "id": "a211d5f5-eb5c-4f20-a4b9-f1c090d724a1",
   "metadata": {},
   "outputs": [
    {
     "name": "stdout",
     "output_type": "stream",
     "text": [
      "[0 1 2 3 4 5 6 7 8]\n",
      "[array([0, 1, 2]), array([3, 4, 5]), array([6, 7, 8])]\n",
      "[array([0, 1, 2, 3]), array([4]), array([5, 6]), array([7, 8])]\n"
     ]
    }
   ],
   "source": [
    "# Create a 1D array with values from 0 to 8\n",
    "a = np.arange(9)\n",
    "print(a)\n",
    "\n",
    "# Split the array into 3 equal parts\n",
    "print(np.split(a, 3))  # Splits after every 3 elements\n",
    "\n",
    "# Split the array at specific indices [4, 5, 7], resulting in segments (0-4), (4-5), (5-7), (7-end)\n",
    "print(np.split(a, [4, 5, 7]))  # Splits at 0-4, 4-5, 5-7, 7-end"
   ]
  },
  {
   "cell_type": "markdown",
   "id": "fa8548eb-4d30-4b95-bce3-c2e07d9418b1",
   "metadata": {},
   "source": [
    "# Resizing An Array"
   ]
  },
  {
   "cell_type": "code",
   "execution_count": 5,
   "id": "ed9f74fa-6ad5-4c5f-b870-80c2614c1e0e",
   "metadata": {},
   "outputs": [
    {
     "name": "stdout",
     "output_type": "stream",
     "text": [
      "a\n",
      "[[1 2 3]\n",
      " [4 5 6]]\n",
      "shape:(2, 3)\n",
      "b\n",
      "[[1 2]\n",
      " [3 4]\n",
      " [5 6]]\n",
      "shape:(3, 2)\n"
     ]
    }
   ],
   "source": [
    "# Create a 2D array 'a' with shape (2, 3)\n",
    "a = np.array([[1, 2, 3], [4, 5, 6]])\n",
    "print(f\"a\\n{a}\\nshape:{a.shape}\")\n",
    "\n",
    "# Resize the array 'a' to a new shape (3, 2), elements will be repeated if necessary\n",
    "b = np.resize(a, (3, 2))\n",
    "print(f\"b\\n{b}\\nshape:{b.shape}\")"
   ]
  },
  {
   "cell_type": "code",
   "execution_count": 6,
   "id": "ee1b3849-613e-4dfa-93bd-12b6a09f358f",
   "metadata": {},
   "outputs": [
    {
     "name": "stdout",
     "output_type": "stream",
     "text": [
      "c\n",
      "[[1 2 3]\n",
      " [4 5 6]\n",
      " [1 2 3]]\n",
      "shape:(3, 3)\n"
     ]
    }
   ],
   "source": [
    "# Resize the array 'a' to a new shape (3, 3), elements will be repeated to fill the new size\n",
    "c = np.resize(a, (3, 3))\n",
    "print(f\"c\\n{c}\\nshape:{c.shape}\")  # It starts repeating the elements to match the new shape"
   ]
  },
  {
   "cell_type": "markdown",
   "id": "17f9197d-e682-444e-b935-337c918e7ac4",
   "metadata": {},
   "source": [
    "# Histogram :"
   ]
  },
  {
   "cell_type": "code",
   "execution_count": null,
   "id": "1f1a83b5-7da5-471c-a9b9-50054158bc46",
   "metadata": {},
   "outputs": [],
   "source": [
    "from matplotlib import pyplot as plt\n",
    "\n",
    "# Create a 1D array with the given values\n",
    "a = np.array([20, 87, 4, 40, 53, 74, 56, 51, 11, 20, 40, 15, 79, 25, 27])\n",
    "\n",
    "# Create a histogram with specified bins\n",
    "plt.hist(a, bins=[0, 20, 40, 60, 80, 100])\n",
    "\n",
    "# Add a title to the histogram\n",
    "plt.title(\"Histogram\")\n",
    "\n",
    "# Display the plot\n",
    "plt.show()"
   ]
  },
  {
   "cell_type": "markdown",
   "id": "fbfde9ed-3f47-4708-956e-22fdb7fdb7a6",
   "metadata": {},
   "source": [
    "# Other Useful Functions :"
   ]
  },
  {
   "cell_type": "code",
   "execution_count": 38,
   "id": "d11f3154-a647-447e-a357-d66c3eb1aaad",
   "metadata": {},
   "outputs": [
    {
     "name": "stdout",
     "output_type": "stream",
     "text": [
      "[ 0.   2.5  5.   7.5 10. ]\n"
     ]
    }
   ],
   "source": [
    "# Generate 5 equally spaced values between 0 and 10 (both inclusive)\n",
    "a = np.linspace(0, 10, 5)\n",
    "\n",
    "# Print the array of generated values\n",
    "print(a)"
   ]
  },
  {
   "cell_type": "code",
   "execution_count": 39,
   "id": "1300c0f1-4544-4e75-81db-eda47b0ace4f",
   "metadata": {},
   "outputs": [
    {
     "name": "stdout",
     "output_type": "stream",
     "text": [
      "[5 7 9]\n",
      "[ 6 15]\n"
     ]
    }
   ],
   "source": [
    "# Create a 2D array 'a'\n",
    "a = np.array([[1, 2, 3], [4, 5, 6]])\n",
    "\n",
    "# Sum the elements along axis 0 (column-wise sum)\n",
    "print(a.sum(axis=0))\n",
    "\n",
    "# Sum the elements along axis 1 (row-wise sum)\n",
    "print(a.sum(axis=1))"
   ]
  },
  {
   "cell_type": "code",
   "execution_count": 40,
   "id": "3632081a-de75-4672-935d-47b78dac9009",
   "metadata": {},
   "outputs": [
    {
     "name": "stdout",
     "output_type": "stream",
     "text": [
      "[[1.         1.41421356 1.73205081]\n",
      " [2.         2.23606798 2.44948974]]\n"
     ]
    }
   ],
   "source": [
    "# Compute the square root of each element in the array 'a'\n",
    "print(np.sqrt(a))\n",
    "array([[1,2,3],[4,5,6]])\n",
    "print(np.sqrt(a))"
   ]
  },
  {
   "cell_type": "code",
   "execution_count": 41,
   "id": "8fdd9932-2584-44cf-b96c-003b977428ce",
   "metadata": {},
   "outputs": [
    {
     "name": "stdout",
     "output_type": "stream",
     "text": [
      "[[0.         0.30103    0.47712125]\n",
      " [0.60205999 0.69897    0.77815125]]\n",
      "[[0.         1.         1.5849625 ]\n",
      " [2.         2.32192809 2.5849625 ]]\n"
     ]
    }
   ],
   "source": [
    "# Compute the base-10 logarithm of each element in the array 'a'\n",
    "print(np.log10(a))\n",
    "\n",
    "# Compute the base-2 logarithm of each element in the array 'a'\n",
    "print(np.log2(a))\n"
   ]
  }
 ],
 "metadata": {
  "kernelspec": {
   "display_name": "Python 3 (ipykernel)",
   "language": "python",
   "name": "python3"
  },
  "language_info": {
   "codemirror_mode": {
    "name": "ipython",
    "version": 3
   },
   "file_extension": ".py",
   "mimetype": "text/x-python",
   "name": "python",
   "nbconvert_exporter": "python",
   "pygments_lexer": "ipython3",
   "version": "3.12.7"
  }
 },
 "nbformat": 4,
 "nbformat_minor": 5
}
